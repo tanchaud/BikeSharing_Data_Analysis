{
 "cells": [
  {
   "cell_type": "code",
   "execution_count": 108,
   "metadata": {},
   "outputs": [],
   "source": [
    "import pandas as pd\n",
    "import matplotlib.pyplot as plt\n",
    "import seaborn as sns"
   ]
  },
  {
   "cell_type": "code",
   "execution_count": 109,
   "metadata": {},
   "outputs": [],
   "source": [
    "df_trip = pd.read_csv('/Users/tanchaud/CAB_Berlin/Project_3/Bike-Sharing-Dataset/2011-capitalbikeshare-tripdata.csv')"
   ]
  },
  {
   "cell_type": "code",
   "execution_count": 110,
   "metadata": {},
   "outputs": [
    {
     "data": {
      "text/html": [
       "<div>\n",
       "<style scoped>\n",
       "    .dataframe tbody tr th:only-of-type {\n",
       "        vertical-align: middle;\n",
       "    }\n",
       "\n",
       "    .dataframe tbody tr th {\n",
       "        vertical-align: top;\n",
       "    }\n",
       "\n",
       "    .dataframe thead th {\n",
       "        text-align: right;\n",
       "    }\n",
       "</style>\n",
       "<table border=\"1\" class=\"dataframe\">\n",
       "  <thead>\n",
       "    <tr style=\"text-align: right;\">\n",
       "      <th></th>\n",
       "      <th>Duration</th>\n",
       "      <th>Start date</th>\n",
       "      <th>End date</th>\n",
       "      <th>Start station number</th>\n",
       "      <th>Start station</th>\n",
       "      <th>End station number</th>\n",
       "      <th>End station</th>\n",
       "      <th>Bike number</th>\n",
       "      <th>Member type</th>\n",
       "    </tr>\n",
       "  </thead>\n",
       "  <tbody>\n",
       "    <tr>\n",
       "      <th>0</th>\n",
       "      <td>3548</td>\n",
       "      <td>2011-01-01 00:01:29</td>\n",
       "      <td>2011-01-01 01:00:37</td>\n",
       "      <td>31620</td>\n",
       "      <td>5th &amp; F St NW</td>\n",
       "      <td>31620</td>\n",
       "      <td>5th &amp; F St NW</td>\n",
       "      <td>W00247</td>\n",
       "      <td>Member</td>\n",
       "    </tr>\n",
       "    <tr>\n",
       "      <th>1</th>\n",
       "      <td>346</td>\n",
       "      <td>2011-01-01 00:02:46</td>\n",
       "      <td>2011-01-01 00:08:32</td>\n",
       "      <td>31105</td>\n",
       "      <td>14th &amp; Harvard St NW</td>\n",
       "      <td>31101</td>\n",
       "      <td>14th &amp; V St NW</td>\n",
       "      <td>W00675</td>\n",
       "      <td>Casual</td>\n",
       "    </tr>\n",
       "    <tr>\n",
       "      <th>2</th>\n",
       "      <td>562</td>\n",
       "      <td>2011-01-01 00:06:13</td>\n",
       "      <td>2011-01-01 00:15:36</td>\n",
       "      <td>31400</td>\n",
       "      <td>Georgia &amp; New Hampshire Ave NW</td>\n",
       "      <td>31104</td>\n",
       "      <td>Adams Mill &amp; Columbia Rd NW</td>\n",
       "      <td>W00357</td>\n",
       "      <td>Member</td>\n",
       "    </tr>\n",
       "  </tbody>\n",
       "</table>\n",
       "</div>"
      ],
      "text/plain": [
       "   Duration           Start date             End date  Start station number  \\\n",
       "0      3548  2011-01-01 00:01:29  2011-01-01 01:00:37                 31620   \n",
       "1       346  2011-01-01 00:02:46  2011-01-01 00:08:32                 31105   \n",
       "2       562  2011-01-01 00:06:13  2011-01-01 00:15:36                 31400   \n",
       "\n",
       "                    Start station  End station number  \\\n",
       "0                   5th & F St NW               31620   \n",
       "1            14th & Harvard St NW               31101   \n",
       "2  Georgia & New Hampshire Ave NW               31104   \n",
       "\n",
       "                   End station Bike number Member type  \n",
       "0                5th & F St NW      W00247      Member  \n",
       "1               14th & V St NW      W00675      Casual  \n",
       "2  Adams Mill & Columbia Rd NW      W00357      Member  "
      ]
     },
     "execution_count": 110,
     "metadata": {},
     "output_type": "execute_result"
    }
   ],
   "source": [
    "df_trip.head(3)"
   ]
  },
  {
   "cell_type": "code",
   "execution_count": 111,
   "metadata": {},
   "outputs": [
    {
     "data": {
      "text/plain": [
       "Duration                 int64\n",
       "Start date              object\n",
       "End date                object\n",
       "Start station number     int64\n",
       "Start station           object\n",
       "End station number       int64\n",
       "End station             object\n",
       "Bike number             object\n",
       "Member type             object\n",
       "dtype: object"
      ]
     },
     "execution_count": 111,
     "metadata": {},
     "output_type": "execute_result"
    }
   ],
   "source": [
    "df_trip.isna().sum()\n",
    "df_trip.dtypes"
   ]
  },
  {
   "cell_type": "code",
   "execution_count": 112,
   "metadata": {},
   "outputs": [],
   "source": [
    "df_trip['Start date'] = pd.to_datetime(df_trip['Start date'])\n",
    "\n",
    "df_trip['End date'] = pd.to_datetime(df_trip['End date'])"
   ]
  },
  {
   "cell_type": "code",
   "execution_count": 113,
   "metadata": {},
   "outputs": [],
   "source": [
    "df_trip['Start Date'] = pd.to_datetime(df_trip['Start date']).dt.date\n",
    "df_trip['Start Time'] = pd.to_datetime(df_trip['Start date']).dt.time"
   ]
  },
  {
   "cell_type": "code",
   "execution_count": 114,
   "metadata": {},
   "outputs": [],
   "source": [
    "df_trip['Start Date'] = pd.to_datetime(df_trip['Start Date'])"
   ]
  },
  {
   "cell_type": "code",
   "execution_count": 115,
   "metadata": {},
   "outputs": [],
   "source": [
    "df_trip = df_trip.set_index(df_trip['Start Date'])"
   ]
  },
  {
   "cell_type": "code",
   "execution_count": 169,
   "metadata": {},
   "outputs": [
    {
     "data": {
      "text/html": [
       "<div>\n",
       "<style scoped>\n",
       "    .dataframe tbody tr th:only-of-type {\n",
       "        vertical-align: middle;\n",
       "    }\n",
       "\n",
       "    .dataframe tbody tr th {\n",
       "        vertical-align: top;\n",
       "    }\n",
       "\n",
       "    .dataframe thead th {\n",
       "        text-align: right;\n",
       "    }\n",
       "</style>\n",
       "<table border=\"1\" class=\"dataframe\">\n",
       "  <thead>\n",
       "    <tr style=\"text-align: right;\">\n",
       "      <th></th>\n",
       "      <th>Duration</th>\n",
       "      <th>Start date</th>\n",
       "      <th>End date</th>\n",
       "      <th>Start station number</th>\n",
       "      <th>Start station</th>\n",
       "      <th>End station number</th>\n",
       "      <th>End station</th>\n",
       "      <th>Bike number</th>\n",
       "      <th>Member type</th>\n",
       "      <th>Start Date</th>\n",
       "      <th>Start Time</th>\n",
       "    </tr>\n",
       "    <tr>\n",
       "      <th>Start Date</th>\n",
       "      <th></th>\n",
       "      <th></th>\n",
       "      <th></th>\n",
       "      <th></th>\n",
       "      <th></th>\n",
       "      <th></th>\n",
       "      <th></th>\n",
       "      <th></th>\n",
       "      <th></th>\n",
       "      <th></th>\n",
       "      <th></th>\n",
       "    </tr>\n",
       "  </thead>\n",
       "  <tbody>\n",
       "    <tr>\n",
       "      <th>2011-01-01</th>\n",
       "      <td>3548</td>\n",
       "      <td>2011-01-01 00:01:29</td>\n",
       "      <td>2011-01-01 01:00:37</td>\n",
       "      <td>31620</td>\n",
       "      <td>5th &amp; F St NW</td>\n",
       "      <td>31620</td>\n",
       "      <td>5th &amp; F St NW</td>\n",
       "      <td>W00247</td>\n",
       "      <td>Member</td>\n",
       "      <td>2011-01-01</td>\n",
       "      <td>00:01:29</td>\n",
       "    </tr>\n",
       "    <tr>\n",
       "      <th>2011-01-01</th>\n",
       "      <td>346</td>\n",
       "      <td>2011-01-01 00:02:46</td>\n",
       "      <td>2011-01-01 00:08:32</td>\n",
       "      <td>31105</td>\n",
       "      <td>14th &amp; Harvard St NW</td>\n",
       "      <td>31101</td>\n",
       "      <td>14th &amp; V St NW</td>\n",
       "      <td>W00675</td>\n",
       "      <td>Casual</td>\n",
       "      <td>2011-01-01</td>\n",
       "      <td>00:02:46</td>\n",
       "    </tr>\n",
       "    <tr>\n",
       "      <th>2011-01-01</th>\n",
       "      <td>562</td>\n",
       "      <td>2011-01-01 00:06:13</td>\n",
       "      <td>2011-01-01 00:15:36</td>\n",
       "      <td>31400</td>\n",
       "      <td>Georgia &amp; New Hampshire Ave NW</td>\n",
       "      <td>31104</td>\n",
       "      <td>Adams Mill &amp; Columbia Rd NW</td>\n",
       "      <td>W00357</td>\n",
       "      <td>Member</td>\n",
       "      <td>2011-01-01</td>\n",
       "      <td>00:06:13</td>\n",
       "    </tr>\n",
       "  </tbody>\n",
       "</table>\n",
       "</div>"
      ],
      "text/plain": [
       "            Duration          Start date            End date  \\\n",
       "Start Date                                                     \n",
       "2011-01-01      3548 2011-01-01 00:01:29 2011-01-01 01:00:37   \n",
       "2011-01-01       346 2011-01-01 00:02:46 2011-01-01 00:08:32   \n",
       "2011-01-01       562 2011-01-01 00:06:13 2011-01-01 00:15:36   \n",
       "\n",
       "            Start station number                   Start station  \\\n",
       "Start Date                                                         \n",
       "2011-01-01                 31620                   5th & F St NW   \n",
       "2011-01-01                 31105            14th & Harvard St NW   \n",
       "2011-01-01                 31400  Georgia & New Hampshire Ave NW   \n",
       "\n",
       "            End station number                  End station Bike number  \\\n",
       "Start Date                                                                \n",
       "2011-01-01               31620                5th & F St NW      W00247   \n",
       "2011-01-01               31101               14th & V St NW      W00675   \n",
       "2011-01-01               31104  Adams Mill & Columbia Rd NW      W00357   \n",
       "\n",
       "           Member type Start Date Start Time  \n",
       "Start Date                                    \n",
       "2011-01-01      Member 2011-01-01   00:01:29  \n",
       "2011-01-01      Casual 2011-01-01   00:02:46  \n",
       "2011-01-01      Member 2011-01-01   00:06:13  "
      ]
     },
     "execution_count": 169,
     "metadata": {},
     "output_type": "execute_result"
    }
   ],
   "source": [
    "df_trip.head(3)"
   ]
  },
  {
   "cell_type": "code",
   "execution_count": 198,
   "metadata": {},
   "outputs": [
    {
     "data": {
      "text/plain": [
       "144"
      ]
     },
     "execution_count": 198,
     "metadata": {},
     "output_type": "execute_result"
    }
   ],
   "source": [
    "len(df_trip['End station'].unique())"
   ]
  },
  {
   "cell_type": "markdown",
   "metadata": {},
   "source": [
    "## Start Stations"
   ]
  },
  {
   "cell_type": "code",
   "execution_count": null,
   "metadata": {},
   "outputs": [],
   "source": [
    "df_trip.loc[df_trip['Start station number'] == 31200] ### MOST POPULAR STATION IN 2011"
   ]
  },
  {
   "cell_type": "code",
   "execution_count": 167,
   "metadata": {},
   "outputs": [
    {
     "data": {
      "text/plain": [
       "Start station number\n",
       "31205    23574\n",
       "31203    23871\n",
       "31110    23971\n",
       "31229    24074\n",
       "31101    25222\n",
       "31214    28160\n",
       "31104    29964\n",
       "31623    32058\n",
       "31201    32884\n",
       "31200    49093\n",
       "dtype: int64"
      ]
     },
     "execution_count": 167,
     "metadata": {},
     "output_type": "execute_result"
    }
   ],
   "source": [
    "popular_stations = df_trip.groupby(\"Start station number\").size()      \n",
    "popular_stations = popular_stations.sort_values()\n",
    "popular_stations.tail(10)"
   ]
  },
  {
   "cell_type": "code",
   "execution_count": 172,
   "metadata": {},
   "outputs": [
    {
     "data": {
      "text/plain": [
       "Start station\n",
       "21st & I St NW                          23574\n",
       "14th & Rhode Island Ave NW              23871\n",
       "20th St & Florida Ave NW                23971\n",
       "New Hampshire Ave & T St NW             24074\n",
       "14th & V St NW                          25222\n",
       "17th & Corcoran St NW                   28160\n",
       "Adams Mill & Columbia Rd NW             29964\n",
       "Columbus Circle / Union Station         32058\n",
       "15th & P St NW                          32884\n",
       "Massachusetts Ave & Dupont Circle NW    49093\n",
       "dtype: int64"
      ]
     },
     "execution_count": 172,
     "metadata": {},
     "output_type": "execute_result"
    }
   ],
   "source": [
    "popular_start_stations = df_trip.groupby(\"Start station\").size()      \n",
    "popular_start_stations = popular_start_stations.sort_values()\n",
    "top_ten_stations = popular_start_stations.tail(10)\n",
    "top_ten_stations"
   ]
  },
  {
   "cell_type": "code",
   "execution_count": 199,
   "metadata": {},
   "outputs": [
    {
     "data": {
      "text/plain": [
       "Text(0.5, 1.0, 'Top Ten Popular Start Stations in  2011')"
      ]
     },
     "execution_count": 199,
     "metadata": {},
     "output_type": "execute_result"
    },
    {
     "data": {
      "image/png": "[encoded data removed]",
      "text/plain": [
       "<Figure size 1080x504 with 1 Axes>"
      ]
     },
     "metadata": {},
     "output_type": "display_data"
    }
   ],
   "source": [
    "sns.set(rc = {'figure.figsize':(15,7)})\n",
    "top_ten_stations.plot(kind='bar')\n",
    "plt.ylabel('Number of Trips')\n",
    "\n",
    "plt.title('Top Ten Popular Start Stations in  2011')"
   ]
  },
  {
   "cell_type": "markdown",
   "metadata": {},
   "source": [
    "## End Stations"
   ]
  },
  {
   "cell_type": "code",
   "execution_count": 200,
   "metadata": {},
   "outputs": [
    {
     "data": {
      "text/plain": [
       "End station\n",
       "USDA / 12th & Independence Ave SW       24281\n",
       "14th & Rhode Island Ave NW              24525\n",
       "14th & V St NW                          25139\n",
       "21st & I St NW                          25283\n",
       "8th & H St NW                           25384\n",
       "Adams Mill & Columbia Rd NW             26248\n",
       "17th & Corcoran St NW                   29103\n",
       "Columbus Circle / Union Station         32252\n",
       "15th & P St NW                          36638\n",
       "Massachusetts Ave & Dupont Circle NW    53910\n",
       "dtype: int64"
      ]
     },
     "execution_count": 200,
     "metadata": {},
     "output_type": "execute_result"
    }
   ],
   "source": [
    "popular_start_stations = df_trip.groupby(\"End station\").size()      \n",
    "popular_start_stations = popular_start_stations.sort_values()\n",
    "top_ten_stations = popular_start_stations.tail(10)\n",
    "top_ten_stations"
   ]
  },
  {
   "cell_type": "code",
   "execution_count": 201,
   "metadata": {},
   "outputs": [
    {
     "data": {
      "text/plain": [
       "Text(0.5, 1.0, 'Top Ten Popular End Stations in  2011')"
      ]
     },
     "execution_count": 201,
     "metadata": {},
     "output_type": "execute_result"
    },
    {
     "data": {
      "image/png": "[encoded data removed]",
      "text/plain": [
       "<Figure size 1080x504 with 1 Axes>"
      ]
     },
     "metadata": {},
     "output_type": "display_data"
    }
   ],
   "source": [
    "sns.set(rc = {'figure.figsize':(15,7)})\n",
    "top_ten_stations.plot(kind='bar')\n",
    "plt.ylabel('Number of Trips')\n",
    "\n",
    "plt.title('Top Ten Popular End Stations in  2011')"
   ]
  },
  {
   "cell_type": "code",
   "execution_count": null,
   "metadata": {},
   "outputs": [],
   "source": [
    "ax = sns.barplot(x=top_ten_stations.index, y=top_ten_stations.values, hue=\"sex\")"
   ]
  }
 ],
 "metadata": {
  "interpreter": {
   "hash": "18280ca97489113fafb1e8bde595a438efbff7c547ca8a138dcc023d9cb2edd5"
  },
  "kernelspec": {
   "display_name": "Python 3.8.5 ('base')",
   "language": "python",
   "name": "python3"
  },
  "language_info": {
   "codemirror_mode": {
    "name": "ipython",
    "version": 3
   },
   "file_extension": ".py",
   "mimetype": "text/x-python",
   "name": "python",
   "nbconvert_exporter": "python",
   "pygments_lexer": "ipython3",
   "version": "3.8.5"
  },
  "orig_nbformat": 4
 },
 "nbformat": 4,
 "nbformat_minor": 2
}
